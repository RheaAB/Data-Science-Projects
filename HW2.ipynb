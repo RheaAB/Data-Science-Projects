{
 "cells": [
  {
   "cell_type": "code",
   "execution_count": 57,
   "id": "ca752d8f",
   "metadata": {},
   "outputs": [
    {
     "name": "stdout",
     "output_type": "stream",
     "text": [
      "[2522.67, 1911.3900000000003, -3707.790000000001, -2914.3099999999995, -599.9200000000001, 7265.24, 8210.550000000001, 3944.9700000000003, 3328.3899999999994, -2238.6500000000015, 659.5999999999985, 11629.54]\n",
      "[-1849.68, -370.55, -6291.21, -5666.93, -3017.51, 4833.61, 4761.67, 1015.14, 236.79, -6552.64, -2554.59, 6999.49]\n",
      "[0, 0, -1, -1, 0, 1, 0, 0, 0, 0, 0, 0]\n",
      "-704.7008333333334\n",
      "[1, 5, 6, 7, 8, 11]\n",
      "[0, 2, 3, 4, 9, 10]\n",
      "11\n",
      "0\n"
     ]
    }
   ],
   "source": [
    "rev = [14574.49, 7606.46, 8611.41, 9175.41, 8058.65, 8105.44, 11496.28, 9766.09, 10305.32, 14379.96, 10713.97, 15433.50]\n",
    "exp = [12051.82, 5695.07, 12319.20, 12089.72, 8658.57, 840.20, 3285.73, 5821.12, 6976.93, 16618.61, 10054.37, 3803.96]\n",
    "p=[]\n",
    "pat=[]\n",
    "pm=[]\n",
    "gm=[]\n",
    "bm=[]\n",
    "spat=0\n",
    "for i in range(0,len(exp)):\n",
    "    p.append(rev[i]-exp[i])\n",
    "    aftax=rev[i]-(3*rev[i]/10)\n",
    "    pat.append(round(aftax-exp[i],2))\n",
    "    pm.append(round(pat[i]/rev[i]))\n",
    "    spat=spat+pat[i]\n",
    "print(p)\n",
    "print(pat)\n",
    "print(pm)\n",
    "mean=spat/len(rev)\n",
    "print(mean)\n",
    "for j in range(0,len(rev)):\n",
    "    if pat[j]>mean:\n",
    "        gm.append(j)\n",
    "    if pat[j]<mean:\n",
    "        bm.append(j)\n",
    "print(gm)\n",
    "print(bm)\n",
    "print(max(gm))\n",
    "print(min(bm))"
   ]
  },
  {
   "cell_type": "code",
   "execution_count": null,
   "id": "fc399360",
   "metadata": {},
   "outputs": [],
   "source": []
  }
 ],
 "metadata": {
  "kernelspec": {
   "display_name": "Python 3 (ipykernel)",
   "language": "python",
   "name": "python3"
  },
  "language_info": {
   "codemirror_mode": {
    "name": "ipython",
    "version": 3
   },
   "file_extension": ".py",
   "mimetype": "text/x-python",
   "name": "python",
   "nbconvert_exporter": "python",
   "pygments_lexer": "ipython3",
   "version": "3.9.13"
  }
 },
 "nbformat": 4,
 "nbformat_minor": 5
}
