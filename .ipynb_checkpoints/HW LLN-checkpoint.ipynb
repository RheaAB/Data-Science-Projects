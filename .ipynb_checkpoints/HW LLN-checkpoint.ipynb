{
 "cells": [
  {
   "cell_type": "code",
   "execution_count": 11,
   "id": "d2273b18",
   "metadata": {},
   "outputs": [],
   "source": [
    "import numpy as np\n",
    "from numpy.random import randn"
   ]
  },
  {
   "cell_type": "code",
   "execution_count": 191,
   "id": "8161e1fc",
   "metadata": {},
   "outputs": [
    {
     "name": "stdout",
     "output_type": "stream",
     "text": [
      "69.39999999999999\n"
     ]
    }
   ],
   "source": [
    "count=0\n",
    "a=1000\n",
    "for i in randn(a):\n",
    "    #a=randn()\n",
    "    if i<1 and i>-1:\n",
    "        count=count + 1\n",
    "print ((count/a)*100)\n"
   ]
  },
  {
   "cell_type": "code",
   "execution_count": null,
   "id": "36c2bb7a",
   "metadata": {},
   "outputs": [],
   "source": []
  }
 ],
 "metadata": {
  "kernelspec": {
   "display_name": "Python 3 (ipykernel)",
   "language": "python",
   "name": "python3"
  },
  "language_info": {
   "codemirror_mode": {
    "name": "ipython",
    "version": 3
   },
   "file_extension": ".py",
   "mimetype": "text/x-python",
   "name": "python",
   "nbconvert_exporter": "python",
   "pygments_lexer": "ipython3",
   "version": "3.9.13"
  }
 },
 "nbformat": 4,
 "nbformat_minor": 5
}
